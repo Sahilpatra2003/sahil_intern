# Netflix Movies and TV Shows Data Cleaning
# Author: [Your Name]

import pandas as pd

# Load dataset (download it first from Kaggle and place in same folder)
df = pd.read_csv("netflix_titles.csv")

# 1. Initial inspection
print("Initial shape:", df.shape)
print(df.info())
print(df.head())

# 2. Handle missing values
print("Missing values before:\n", df.isnull().sum())
df['director'].fillna("Unknown", inplace=True)
df['cast'].fillna("Unknown", inplace=True)
df['country'].fillna("Unknown", inplace=True)
df['date_added'] = pd.to_datetime(df['date_added'], errors='coerce')

# 3. Remove duplicates
df.drop_duplicates(inplace=True)

# 4. Standardize text
df['type'] = df['type'].str.strip().str.lower()   # movie / tv show
df['rating'] = df['rating'].str.strip()

# 5. Rename columns
df.columns = df.columns.str.strip().str.lower().str.replace(" ", "_")

# 6. Fix datatypes
df['release_year'] = df['release_year'].astype(int)

# Final check
print("Cleaned shape:", df.shape)
print(df.isnull().sum())

# Save cleaned dataset
df.to_csv("netflix_cleaned.csv", index=False)
print("✅ Cleaned dataset saved as netflix_cleaned.csv")
